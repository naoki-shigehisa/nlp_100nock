{
 "cells": [
  {
   "cell_type": "markdown",
   "id": "0a599163-fdbc-48df-9574-ea31f9384630",
   "metadata": {},
   "source": [
    "## 20. JSONデータの読み込み"
   ]
  },
  {
   "cell_type": "code",
   "execution_count": 6,
   "id": "062dacb4-9d63-4643-a9cb-fe7fd1c37920",
   "metadata": {},
   "outputs": [],
   "source": [
    "import json\n",
    "dicts = []\n",
    "with open('data_section3/jawiki-country.json', encoding=\"utf-8\") as f:\n",
    "    for data in f:\n",
    "        dicts.append(json.loads(data))\n",
    "\n",
    "for article in dicts:\n",
    "    if article[\"title\"] == \"イギリス\":\n",
    "        print(article[\"text\"])"
   ]
  },
  {
   "cell_type": "markdown",
   "id": "becfcbd2-5f2e-4968-9b24-9f8d943e47ba",
   "metadata": {},
   "source": [
    "## 21. カテゴリ名を含む行を抽出Permalink"
   ]
  },
  {
   "cell_type": "code",
   "execution_count": null,
   "id": "6de6327f-7014-4dc7-b44a-851001c782d0",
   "metadata": {},
   "outputs": [],
   "source": []
  }
 ],
 "metadata": {
  "kernelspec": {
   "display_name": "Python 3",
   "language": "python",
   "name": "python3"
  },
  "language_info": {
   "codemirror_mode": {
    "name": "ipython",
    "version": 3
   },
   "file_extension": ".py",
   "mimetype": "text/x-python",
   "name": "python",
   "nbconvert_exporter": "python",
   "pygments_lexer": "ipython3",
   "version": "3.6.9"
  }
 },
 "nbformat": 4,
 "nbformat_minor": 5
}
