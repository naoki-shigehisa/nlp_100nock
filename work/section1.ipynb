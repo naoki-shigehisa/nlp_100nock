{
 "cells": [
  {
   "cell_type": "markdown",
   "id": "43cc40cd-a496-46ab-a383-118ecfc1a409",
   "metadata": {},
   "source": [
    "## 00. 文字列の逆順"
   ]
  },
  {
   "cell_type": "code",
   "execution_count": 4,
   "id": "2027d2ec-451c-4d4f-976c-743a247041dd",
   "metadata": {},
   "outputs": [
    {
     "data": {
      "text/plain": [
       "'desserts'"
      ]
     },
     "execution_count": 4,
     "metadata": {},
     "output_type": "execute_result"
    }
   ],
   "source": [
    "string = \"stressed\"\n",
    "\n",
    "string[::-1]"
   ]
  },
  {
   "cell_type": "markdown",
   "id": "b185fcdb-83c8-4f64-af41-d4d0498a9138",
   "metadata": {},
   "source": [
    "## 01. 「パタトクカシーー」"
   ]
  },
  {
   "cell_type": "code",
   "execution_count": 9,
   "id": "db940047-a1c6-42d3-92a3-6f8a490cab5c",
   "metadata": {},
   "outputs": [
    {
     "data": {
      "text/plain": [
       "'タクシー'"
      ]
     },
     "execution_count": 9,
     "metadata": {},
     "output_type": "execute_result"
    }
   ],
   "source": [
    "string = \"パタトクカシーー\"\n",
    "\n",
    "string[1::2]"
   ]
  },
  {
   "cell_type": "markdown",
   "id": "8261d81c-4d2b-4a3b-869b-747350b133f7",
   "metadata": {},
   "source": [
    "## 02. 「パトカー」＋「タクシー」＝「パタトクカシーー」"
   ]
  },
  {
   "cell_type": "code",
   "execution_count": 11,
   "id": "3e128e7e-49e1-4527-bdcc-aa62d49ef85b",
   "metadata": {},
   "outputs": [
    {
     "data": {
      "text/plain": [
       "'パタトクカシーー'"
      ]
     },
     "execution_count": 11,
     "metadata": {},
     "output_type": "execute_result"
    }
   ],
   "source": [
    "string_1 = \"パトカー\"\n",
    "string_2 = \"タクシー\"\n",
    "\n",
    "result = \"\"\n",
    "for s_1,s_2 in zip(string_1,string_2):\n",
    "    result += s_1 + s_2\n",
    "    \n",
    "result"
   ]
  },
  {
   "cell_type": "markdown",
   "id": "ab4be189-3d88-4fd9-8511-269b25961ba7",
   "metadata": {},
   "source": [
    "## 03. 円周率"
   ]
  },
  {
   "cell_type": "code",
   "execution_count": 12,
   "id": "396c874e-0490-49ae-86a0-e077af867135",
   "metadata": {},
   "outputs": [
    {
     "data": {
      "text/plain": [
       "[3, 1, 4, 1, 6, 9, 2, 7, 5, 3, 5, 8, 9, 7, 9]"
      ]
     },
     "execution_count": 12,
     "metadata": {},
     "output_type": "execute_result"
    }
   ],
   "source": [
    "sentence = \"Now I need a drink, alcoholic of course, after the heavy lectures involving quantum mechanics.\"\n",
    "\n",
    "words = sentence.replace('.', '').split(\" \")\n",
    "word_lengths = []\n",
    "for word in words:\n",
    "    word_lengths.append(len(word))\n",
    "    \n",
    "word_lengths"
   ]
  },
  {
   "cell_type": "markdown",
   "id": "537ce909-f0f6-4132-9618-36abf55b951b",
   "metadata": {},
   "source": [
    "## 04. 元素記号"
   ]
  },
  {
   "cell_type": "code",
   "execution_count": 14,
   "id": "d1682174-96f4-4b2c-bdf4-f4c6cbe26895",
   "metadata": {},
   "outputs": [
    {
     "data": {
      "text/plain": [
       "{1: 'H',\n",
       " 2: 'He',\n",
       " 3: 'Li',\n",
       " 4: 'Be',\n",
       " 5: 'B',\n",
       " 6: 'C',\n",
       " 7: 'N',\n",
       " 8: 'O',\n",
       " 9: 'F',\n",
       " 10: 'Ne',\n",
       " 11: 'Na',\n",
       " 12: 'Mi',\n",
       " 13: 'Al',\n",
       " 14: 'Si',\n",
       " 15: 'P',\n",
       " 16: 'S',\n",
       " 17: 'Cl',\n",
       " 18: 'Ar',\n",
       " 19: 'K',\n",
       " 20: 'Ca'}"
      ]
     },
     "execution_count": 14,
     "metadata": {},
     "output_type": "execute_result"
    }
   ],
   "source": [
    "sentence = \"Hi He Lied Because Boron Could Not Oxidize Fluorine. New Nations Might Also Sign Peace Security Clause. Arthur King Can.\"\n",
    "\n",
    "words = sentence.replace('.', '').split(\" \")\n",
    "specials = [1, 5, 6, 7, 8, 9, 15, 16, 19]\n",
    "\n",
    "word_order = {}\n",
    "for i, word in enumerate(words):\n",
    "    if i+1 in specials:\n",
    "        word_order[i+1] = word[0]\n",
    "    else:\n",
    "        word_order[i+1] = word[:2]\n",
    "\n",
    "word_order"
   ]
  },
  {
   "cell_type": "markdown",
   "id": "97ab956b-4034-4e30-8635-0e3dd737194c",
   "metadata": {},
   "source": [
    "## 05. n-gram"
   ]
  },
  {
   "cell_type": "code",
   "execution_count": 2,
   "id": "2b9d34eb-a407-41cb-8852-577c42a9770a",
   "metadata": {},
   "outputs": [
    {
     "name": "stdout",
     "output_type": "stream",
     "text": [
      "['I ', 'am', ' a', 'n ', 'NL', 'Pe', 'r']\n",
      "[['I', 'am'], ['an', 'NLPer']]\n"
     ]
    }
   ],
   "source": [
    "def n_gram(string, n):\n",
    "    result = []\n",
    "    for i in range(0, len(string), n):\n",
    "        result.append(string[i:i+n])\n",
    "    return result\n",
    "\n",
    "sentence = \"I am an NLPer\"\n",
    "\n",
    "print(n_gram(sentence, 2))\n",
    "\n",
    "words = sentence.split(\" \")\n",
    "print(n_gram(words, 2))"
   ]
  },
  {
   "cell_type": "markdown",
   "id": "3329b668-c103-4bfc-890d-921d12d442c3",
   "metadata": {},
   "source": [
    "## 06. 集合"
   ]
  },
  {
   "cell_type": "code",
   "execution_count": 7,
   "id": "70277b1a-eaec-438c-bbf6-1b263f994d24",
   "metadata": {},
   "outputs": [
    {
     "name": "stdout",
     "output_type": "stream",
     "text": [
      "{'h', 'ra', 'pa', 'gr', 'di', 'se', 'ap'}\n",
      "{'ra', 'pa'}\n",
      "{'di', 'se'}\n",
      "True\n",
      "False\n"
     ]
    }
   ],
   "source": [
    "sentence_1 = \"paraparaparadise\"\n",
    "sentence_2 = \"paragraph\"\n",
    "\n",
    "X = set(n_gram(sentence_1, 2))\n",
    "Y = set(n_gram(sentence_2, 2))\n",
    "\n",
    "print(X|Y)\n",
    "print(X&Y)\n",
    "print(X-Y)\n",
    "\n",
    "print(\"se\" in X)\n",
    "print(\"se\" in Y)"
   ]
  },
  {
   "cell_type": "markdown",
   "id": "d8b55c25-148d-4b27-a8cd-d4421a212219",
   "metadata": {},
   "source": [
    "## 07. テンプレートによる文生成"
   ]
  },
  {
   "cell_type": "code",
   "execution_count": 9,
   "id": "1718a425-de36-4cb9-98a9-3e87b5b0319a",
   "metadata": {},
   "outputs": [
    {
     "data": {
      "text/plain": [
       "'12時の気温は22.4'"
      ]
     },
     "execution_count": 9,
     "metadata": {},
     "output_type": "execute_result"
    }
   ],
   "source": [
    "def create_sentence(x, y, z):\n",
    "    return str(x) + \"時の\" + str(y) + \"は\" + str(z)\n",
    "\n",
    "create_sentence(12, \"気温\", 22.4)"
   ]
  },
  {
   "cell_type": "markdown",
   "id": "bdcdfe4a-8f04-4a5f-a443-9ed8f768b40c",
   "metadata": {},
   "source": [
    "## 08. 暗号文"
   ]
  },
  {
   "cell_type": "code",
   "execution_count": 13,
   "id": "486e570d-a54a-4635-b24f-219906070f13",
   "metadata": {},
   "outputs": [
    {
     "name": "stdout",
     "output_type": "stream",
     "text": [
      "Nld I mvvw z wirmp, zoxlslorx lu xlfihv, zugvi gsv svzeb ovxgfivh rmeloermt jfzmgfn nvxszmrxh.\n",
      "Now I need a drink, alcoholic of course, after the heavy lectures involving quantum mechanics.\n"
     ]
    }
   ],
   "source": [
    "def cipher(sentence):\n",
    "    result = \"\"\n",
    "    for s in sentence:\n",
    "        if s.islower():\n",
    "            result += chr(219 - ord(s))\n",
    "        else:\n",
    "            result += s\n",
    "    return result\n",
    "\n",
    "print(cipher(\"Now I need a drink, alcoholic of course, after the heavy lectures involving quantum mechanics.\"))\n",
    "print(cipher(cipher(\"Now I need a drink, alcoholic of course, after the heavy lectures involving quantum mechanics.\")))"
   ]
  },
  {
   "cell_type": "markdown",
   "id": "15bf2f23-5cf4-4b28-95b5-1b72c3bf8018",
   "metadata": {},
   "source": [
    "## 09. Typoglycemia"
   ]
  },
  {
   "cell_type": "code",
   "execution_count": 15,
   "id": "0740c464-21aa-4c16-9927-4edfbf931fc1",
   "metadata": {},
   "outputs": [
    {
     "data": {
      "text/plain": [
       "'I cnoul’dt bilevee that I cuold aulaltcy unnresdtad what I was readnig : the peohmnaenl pwoer of the huamn mind .'"
      ]
     },
     "execution_count": 15,
     "metadata": {},
     "output_type": "execute_result"
    }
   ],
   "source": [
    "import random\n",
    "def typoglycemia(sentence):\n",
    "    words = sentence.split(\" \")\n",
    "    result_words = []\n",
    "    for word in words:\n",
    "        if len(word) <= 4:\n",
    "            result_words.append(word)\n",
    "        else:\n",
    "            result_words.append(word[0] + \"\".join(random.sample(word[1:-1], len(word)-2)) + word[-1])\n",
    "    return \" \".join(result_words)\n",
    "\n",
    "typoglycemia(\"I couldn’t believe that I could actually understand what I was reading : the phenomenal power of the human mind .\")"
   ]
  }
 ],
 "metadata": {
  "kernelspec": {
   "display_name": "Python 3",
   "language": "python",
   "name": "python3"
  },
  "language_info": {
   "codemirror_mode": {
    "name": "ipython",
    "version": 3
   },
   "file_extension": ".py",
   "mimetype": "text/x-python",
   "name": "python",
   "nbconvert_exporter": "python",
   "pygments_lexer": "ipython3",
   "version": "3.6.9"
  }
 },
 "nbformat": 4,
 "nbformat_minor": 5
}
