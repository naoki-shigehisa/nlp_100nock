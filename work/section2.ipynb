{
 "cells": [
  {
   "cell_type": "markdown",
   "id": "dfd28283-9b6b-4621-9905-07341b1671f8",
   "metadata": {},
   "source": [
    "## 10. 行数のカウント"
   ]
  },
  {
   "cell_type": "code",
   "execution_count": 1,
   "id": "bec548ee-4780-40d4-a1bf-10c5b4547d04",
   "metadata": {},
   "outputs": [
    {
     "name": "stdout",
     "output_type": "stream",
     "text": [
      "2780\n"
     ]
    }
   ],
   "source": [
    "print(sum([1 for _ in open('data/popular-names.txt')]))"
   ]
  },
  {
   "cell_type": "code",
   "execution_count": 4,
   "id": "3935e962-8982-42ce-bd0b-e3f588415c56",
   "metadata": {},
   "outputs": [
    {
     "name": "stdout",
     "output_type": "stream",
     "text": [
      " 2779 11120 55025 data/popular-names.txt\n"
     ]
    }
   ],
   "source": [
    "!wc data/popular-names.txt"
   ]
  },
  {
   "cell_type": "markdown",
   "id": "4a1f1250-aaaf-412f-8b04-a6724e35d81b",
   "metadata": {},
   "source": [
    "## 11. タブをスペースに置換"
   ]
  },
  {
   "cell_type": "code",
   "execution_count": 15,
   "id": "1b734c0a-488f-4850-91e1-09cd3d39c746",
   "metadata": {},
   "outputs": [],
   "source": [
    "lines = []\n",
    "with open(\"data/popular-names.txt\", \"r\") as f:\n",
    "    for data in f:\n",
    "        lines.append(data.strip().replace(\"\\t\",\" \")+\"\\n\")\n",
    "        \n",
    "with open(\"data/popular-names-space.txt\", \"w\") as f:\n",
    "    f.writelines(lines)"
   ]
  },
  {
   "cell_type": "code",
   "execution_count": null,
   "id": "47530c90-06cc-4b60-a32a-dcd72e447bf9",
   "metadata": {},
   "outputs": [],
   "source": [
    "!expand -t 1 data/popular-names.txt"
   ]
  },
  {
   "cell_type": "markdown",
   "id": "ceffc42b-dfdc-4d33-b9e1-2395d618750d",
   "metadata": {},
   "source": [
    "## 12. 1列目をcol1.txtに，2列目をcol2.txtに保存"
   ]
  },
  {
   "cell_type": "code",
   "execution_count": 16,
   "id": "e6757c57-2ad4-40e2-82c2-4c2ffccce455",
   "metadata": {},
   "outputs": [],
   "source": [
    "col1 = []\n",
    "col2 = []\n",
    "with open(\"data/popular-names.txt\", \"r\") as f:\n",
    "    for data in f:\n",
    "        line = data.strip().split(\"\\t\")\n",
    "        col1.append(line[0]+\"\\n\")\n",
    "        col2.append(line[1]+\"\\n\")\n",
    "        \n",
    "with open(\"data/col1.txt\", \"w\") as f:\n",
    "    f.writelines(col1)\n",
    "with open(\"data/col2.txt\", \"w\") as f:\n",
    "    f.writelines(col2)"
   ]
  },
  {
   "cell_type": "code",
   "execution_count": null,
   "id": "238fb74f-2ebd-4db5-9df3-8fd12cae2534",
   "metadata": {},
   "outputs": [],
   "source": [
    "!cut -f 1 data/popular-names.txt"
   ]
  },
  {
   "cell_type": "code",
   "execution_count": null,
   "id": "041b8a2f-a7a1-40de-97cb-0406eff4f46c",
   "metadata": {},
   "outputs": [],
   "source": [
    "!cut -f 2 data/popular-names.txt"
   ]
  },
  {
   "cell_type": "markdown",
   "id": "fa1b8cf5-7763-4290-bd6b-57a7f1fb0850",
   "metadata": {},
   "source": [
    "## 13. col1.txtとcol2.txtをマージ"
   ]
  },
  {
   "cell_type": "code",
   "execution_count": null,
   "id": "33a9d2a5-bf5b-48f5-8e05-17ef0ae88406",
   "metadata": {},
   "outputs": [],
   "source": []
  }
 ],
 "metadata": {
  "kernelspec": {
   "display_name": "Python 3",
   "language": "python",
   "name": "python3"
  },
  "language_info": {
   "codemirror_mode": {
    "name": "ipython",
    "version": 3
   },
   "file_extension": ".py",
   "mimetype": "text/x-python",
   "name": "python",
   "nbconvert_exporter": "python",
   "pygments_lexer": "ipython3",
   "version": "3.6.9"
  }
 },
 "nbformat": 4,
 "nbformat_minor": 5
}
