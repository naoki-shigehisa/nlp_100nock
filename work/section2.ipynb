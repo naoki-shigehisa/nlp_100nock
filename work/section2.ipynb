{
 "cells": [
  {
   "cell_type": "markdown",
   "id": "dfd28283-9b6b-4621-9905-07341b1671f8",
   "metadata": {},
   "source": [
    "## 10. 行数のカウント"
   ]
  },
  {
   "cell_type": "code",
   "execution_count": 1,
   "id": "bec548ee-4780-40d4-a1bf-10c5b4547d04",
   "metadata": {},
   "outputs": [
    {
     "name": "stdout",
     "output_type": "stream",
     "text": [
      "2780\n"
     ]
    }
   ],
   "source": [
    "print(sum([1 for _ in open('data_section2/popular-names.txt')]))"
   ]
  },
  {
   "cell_type": "code",
   "execution_count": 4,
   "id": "3935e962-8982-42ce-bd0b-e3f588415c56",
   "metadata": {},
   "outputs": [
    {
     "name": "stdout",
     "output_type": "stream",
     "text": [
      " 2779 11120 55025 data/popular-names.txt\n"
     ]
    }
   ],
   "source": [
    "!wc data_section2/popular-names.txt"
   ]
  },
  {
   "cell_type": "markdown",
   "id": "4a1f1250-aaaf-412f-8b04-a6724e35d81b",
   "metadata": {},
   "source": [
    "## 11. タブをスペースに置換"
   ]
  },
  {
   "cell_type": "code",
   "execution_count": 15,
   "id": "1b734c0a-488f-4850-91e1-09cd3d39c746",
   "metadata": {},
   "outputs": [],
   "source": [
    "lines = []\n",
    "with open(\"data_section2/popular-names.txt\", \"r\") as f:\n",
    "    for data in f:\n",
    "        lines.append(data.strip().replace(\"\\t\",\" \")+\"\\n\")\n",
    "        \n",
    "with open(\"data_section2/popular-names-space.txt\", \"w\") as f:\n",
    "    f.writelines(lines)"
   ]
  },
  {
   "cell_type": "code",
   "execution_count": null,
   "id": "47530c90-06cc-4b60-a32a-dcd72e447bf9",
   "metadata": {},
   "outputs": [],
   "source": [
    "!expand -t 1 data_section2/popular-names.txt"
   ]
  },
  {
   "cell_type": "markdown",
   "id": "ceffc42b-dfdc-4d33-b9e1-2395d618750d",
   "metadata": {},
   "source": [
    "## 12. 1列目をcol1.txtに，2列目をcol2.txtに保存"
   ]
  },
  {
   "cell_type": "code",
   "execution_count": 16,
   "id": "e6757c57-2ad4-40e2-82c2-4c2ffccce455",
   "metadata": {},
   "outputs": [],
   "source": [
    "col1 = []\n",
    "col2 = []\n",
    "with open(\"data_section2/popular-names.txt\", \"r\") as f:\n",
    "    for data in f:\n",
    "        line = data.strip().split(\"\\t\")\n",
    "        col1.append(line[0]+\"\\n\")\n",
    "        col2.append(line[1]+\"\\n\")\n",
    "        \n",
    "with open(\"data_section2/col1.txt\", \"w\") as f:\n",
    "    f.writelines(col1)\n",
    "with open(\"data_section2/col2.txt\", \"w\") as f:\n",
    "    f.writelines(col2)"
   ]
  },
  {
   "cell_type": "code",
   "execution_count": null,
   "id": "238fb74f-2ebd-4db5-9df3-8fd12cae2534",
   "metadata": {},
   "outputs": [],
   "source": [
    "!cut -f 1 data_section2/popular-names.txt"
   ]
  },
  {
   "cell_type": "code",
   "execution_count": null,
   "id": "041b8a2f-a7a1-40de-97cb-0406eff4f46c",
   "metadata": {},
   "outputs": [],
   "source": [
    "!cut -f 2 data_section2/popular-names.txt"
   ]
  },
  {
   "cell_type": "markdown",
   "id": "fa1b8cf5-7763-4290-bd6b-57a7f1fb0850",
   "metadata": {},
   "source": [
    "## 13. col1.txtとcol2.txtをマージ"
   ]
  },
  {
   "cell_type": "code",
   "execution_count": 6,
   "id": "33a9d2a5-bf5b-48f5-8e05-17ef0ae88406",
   "metadata": {},
   "outputs": [],
   "source": [
    "import numpy as np\n",
    "import pandas as pd\n",
    "\n",
    "col1 = []\n",
    "with open(\"data_section2/col1.txt\", \"r\") as f:\n",
    "    for data in f:\n",
    "        col1.append(data.strip())\n",
    "col2 = []\n",
    "with open(\"data_section2/col2.txt\", \"r\") as f:\n",
    "    for data in f:\n",
    "        col2.append(data.strip())\n",
    "        \n",
    "data = pd.DataFrame(np.array([col1,col2]).T)\n",
    "data.to_csv('data_section2/col1_col2.txt', sep='\\t', index=False)"
   ]
  },
  {
   "cell_type": "code",
   "execution_count": null,
   "id": "5e275cf8-9b57-4e6c-a1fe-c7d889cdff3f",
   "metadata": {},
   "outputs": [],
   "source": [
    "!paste -d '\\t' data_section2/col1.txt data_section2/col2.txt"
   ]
  },
  {
   "cell_type": "markdown",
   "id": "1f95b02d-c649-46e3-b9e1-e9d121f17256",
   "metadata": {},
   "source": [
    "## 14. 先頭からN行を出力"
   ]
  },
  {
   "cell_type": "code",
   "execution_count": 8,
   "id": "cbe456c1-04ad-4629-b60f-251bbcf49f47",
   "metadata": {},
   "outputs": [
    {
     "name": "stdout",
     "output_type": "stream",
     "text": [
      "Mary\tF\t7065\t1880\n",
      "Anna\tF\t2604\t1880\n",
      "Emma\tF\t2003\t1880\n",
      "Elizabeth\tF\t1939\t1880\n",
      "Minnie\tF\t1746\t1880\n",
      "Margaret\tF\t1578\t1880\n",
      "Ida\tF\t1472\t1880\n",
      "Alice\tF\t1414\t1880\n",
      "Bertha\tF\t1320\t1880\n",
      "Sarah\tF\t1288\t1880\n"
     ]
    }
   ],
   "source": [
    "N = 10\n",
    "with open(\"data_section2/popular-names.txt\", \"r\") as f:\n",
    "    for i, data in enumerate(f):\n",
    "        if i < N:\n",
    "            print(data.strip())\n",
    "        else:\n",
    "            break"
   ]
  },
  {
   "cell_type": "code",
   "execution_count": 9,
   "id": "9521c9b2-1546-4efa-ba81-5d4835ce26f1",
   "metadata": {},
   "outputs": [
    {
     "name": "stdout",
     "output_type": "stream",
     "text": [
      "Mary\tF\t7065\t1880\n",
      "Anna\tF\t2604\t1880\n",
      "Emma\tF\t2003\t1880\n",
      "Elizabeth\tF\t1939\t1880\n",
      "Minnie\tF\t1746\t1880\n",
      "Margaret\tF\t1578\t1880\n",
      "Ida\tF\t1472\t1880\n",
      "Alice\tF\t1414\t1880\n",
      "Bertha\tF\t1320\t1880\n",
      "Sarah\tF\t1288\t1880\n"
     ]
    }
   ],
   "source": [
    "!head -n 10 data_section2/popular-names.txt"
   ]
  },
  {
   "cell_type": "markdown",
   "id": "c2dde88e-327a-46fb-941a-bcde4a9df9a8",
   "metadata": {},
   "source": [
    "## 15. 末尾のN行を出力"
   ]
  },
  {
   "cell_type": "code",
   "execution_count": 14,
   "id": "4ac8d4b8-5ed8-4d8d-8112-28d072f4de32",
   "metadata": {},
   "outputs": [
    {
     "name": "stdout",
     "output_type": "stream",
     "text": [
      "Liam\tM\t19837\t2018\n",
      "Noah\tM\t18267\t2018\n",
      "William\tM\t14516\t2018\n",
      "James\tM\t13525\t2018\n",
      "Oliver\tM\t13389\t2018\n",
      "Benjamin\tM\t13381\t2018\n",
      "Elijah\tM\t12886\t2018\n",
      "Lucas\tM\t12585\t2018\n",
      "Mason\tM\t12435\t2018\n",
      "Logan\tM\t12352\t2018\n"
     ]
    }
   ],
   "source": [
    "N = 10\n",
    "line_count = sum([1 for _ in open('data_section2/popular-names.txt')])\n",
    "with open(\"data_section2/popular-names.txt\", \"r\") as f:\n",
    "    for i, data in enumerate(f):\n",
    "        if line_count - i < N+1:\n",
    "            print(data.strip())"
   ]
  },
  {
   "cell_type": "code",
   "execution_count": 15,
   "id": "0a0c5487-cea9-451b-86a8-1ad710ad51f8",
   "metadata": {},
   "outputs": [
    {
     "name": "stdout",
     "output_type": "stream",
     "text": [
      "Liam\tM\t19837\t2018\n",
      "Noah\tM\t18267\t2018\n",
      "William\tM\t14516\t2018\n",
      "James\tM\t13525\t2018\n",
      "Oliver\tM\t13389\t2018\n",
      "Benjamin\tM\t13381\t2018\n",
      "Elijah\tM\t12886\t2018\n",
      "Lucas\tM\t12585\t2018\n",
      "Mason\tM\t12435\t2018\n",
      "Logan\tM\t12352\t2018"
     ]
    }
   ],
   "source": [
    "!tail -n 10 data_section2/popular-names.txt"
   ]
  },
  {
   "cell_type": "markdown",
   "id": "bf398fe1-8667-426e-8a97-6f70fcba24aa",
   "metadata": {},
   "source": [
    "## 16. ファイルをN分割する"
   ]
  },
  {
   "cell_type": "code",
   "execution_count": 7,
   "id": "12107ef7-0078-4036-b80d-a9a0b2271983",
   "metadata": {},
   "outputs": [],
   "source": [
    "import pandas as pd\n",
    "N = 10\n",
    "\n",
    "data = pd.read_csv('data_section2/popular-names.txt', sep='\\t', header=None)\n",
    "\n",
    "file_length = len(data) // 10\n",
    "for i in range(N):\n",
    "    data.iloc[i*file_length:(i+1)*file_length].to_csv('data_section2/popular-names-' + str(i) + \".txt\", sep='\\t', index=False, header=None)"
   ]
  },
  {
   "cell_type": "code",
   "execution_count": 3,
   "id": "5aebe1f3-712f-4b36-8c8e-956d04224485",
   "metadata": {},
   "outputs": [],
   "source": [
    "!split -n 10 data_section2/popular-names.txt data_section2/popular-names"
   ]
  },
  {
   "cell_type": "markdown",
   "id": "af30d74c-96c3-4a62-9b6a-353667867f60",
   "metadata": {},
   "source": [
    "## 17. １列目の文字列の異なり"
   ]
  },
  {
   "cell_type": "code",
   "execution_count": 20,
   "id": "aa3f342e-4f7f-4e00-867d-f0d435aeff47",
   "metadata": {},
   "outputs": [],
   "source": [
    "col1 = []\n",
    "with open(\"data_section2/col1.txt\", \"r\") as f:\n",
    "    for data in f:\n",
    "        col1.append(data.strip())\n",
    "        \n",
    "set(col1)"
   ]
  },
  {
   "cell_type": "code",
   "execution_count": null,
   "id": "bbf27cc5-5c8d-4ece-9ffa-1b223417e089",
   "metadata": {},
   "outputs": [],
   "source": [
    "!cut -f 1 data_section2/popular-names.txt | sort | uniq"
   ]
  },
  {
   "cell_type": "markdown",
   "id": "a3d6fa13-b06b-4925-901e-49793b307aae",
   "metadata": {},
   "source": [
    "## 18. 各行を3コラム目の数値の降順にソート"
   ]
  },
  {
   "cell_type": "code",
   "execution_count": 26,
   "id": "cd630129-7d90-40fb-9aa1-44864d4e4475",
   "metadata": {},
   "outputs": [
    {
     "data": {
      "text/html": [
       "<div>\n",
       "<style scoped>\n",
       "    .dataframe tbody tr th:only-of-type {\n",
       "        vertical-align: middle;\n",
       "    }\n",
       "\n",
       "    .dataframe tbody tr th {\n",
       "        vertical-align: top;\n",
       "    }\n",
       "\n",
       "    .dataframe thead th {\n",
       "        text-align: right;\n",
       "    }\n",
       "</style>\n",
       "<table border=\"1\" class=\"dataframe\">\n",
       "  <thead>\n",
       "    <tr style=\"text-align: right;\">\n",
       "      <th></th>\n",
       "      <th>0</th>\n",
       "      <th>1</th>\n",
       "      <th>2</th>\n",
       "      <th>3</th>\n",
       "    </tr>\n",
       "  </thead>\n",
       "  <tbody>\n",
       "    <tr>\n",
       "      <th>1340</th>\n",
       "      <td>Linda</td>\n",
       "      <td>F</td>\n",
       "      <td>99689</td>\n",
       "      <td>1947</td>\n",
       "    </tr>\n",
       "    <tr>\n",
       "      <th>1360</th>\n",
       "      <td>Linda</td>\n",
       "      <td>F</td>\n",
       "      <td>96211</td>\n",
       "      <td>1948</td>\n",
       "    </tr>\n",
       "    <tr>\n",
       "      <th>1350</th>\n",
       "      <td>James</td>\n",
       "      <td>M</td>\n",
       "      <td>94757</td>\n",
       "      <td>1947</td>\n",
       "    </tr>\n",
       "    <tr>\n",
       "      <th>1550</th>\n",
       "      <td>Michael</td>\n",
       "      <td>M</td>\n",
       "      <td>92704</td>\n",
       "      <td>1957</td>\n",
       "    </tr>\n",
       "    <tr>\n",
       "      <th>1351</th>\n",
       "      <td>Robert</td>\n",
       "      <td>M</td>\n",
       "      <td>91640</td>\n",
       "      <td>1947</td>\n",
       "    </tr>\n",
       "    <tr>\n",
       "      <th>...</th>\n",
       "      <td>...</td>\n",
       "      <td>...</td>\n",
       "      <td>...</td>\n",
       "      <td>...</td>\n",
       "    </tr>\n",
       "    <tr>\n",
       "      <th>27</th>\n",
       "      <td>Annie</td>\n",
       "      <td>F</td>\n",
       "      <td>1326</td>\n",
       "      <td>1881</td>\n",
       "    </tr>\n",
       "    <tr>\n",
       "      <th>28</th>\n",
       "      <td>Bertha</td>\n",
       "      <td>F</td>\n",
       "      <td>1324</td>\n",
       "      <td>1881</td>\n",
       "    </tr>\n",
       "    <tr>\n",
       "      <th>8</th>\n",
       "      <td>Bertha</td>\n",
       "      <td>F</td>\n",
       "      <td>1320</td>\n",
       "      <td>1880</td>\n",
       "    </tr>\n",
       "    <tr>\n",
       "      <th>29</th>\n",
       "      <td>Alice</td>\n",
       "      <td>F</td>\n",
       "      <td>1308</td>\n",
       "      <td>1881</td>\n",
       "    </tr>\n",
       "    <tr>\n",
       "      <th>9</th>\n",
       "      <td>Sarah</td>\n",
       "      <td>F</td>\n",
       "      <td>1288</td>\n",
       "      <td>1880</td>\n",
       "    </tr>\n",
       "  </tbody>\n",
       "</table>\n",
       "<p>2780 rows × 4 columns</p>\n",
       "</div>"
      ],
      "text/plain": [
       "            0  1      2     3\n",
       "1340    Linda  F  99689  1947\n",
       "1360    Linda  F  96211  1948\n",
       "1350    James  M  94757  1947\n",
       "1550  Michael  M  92704  1957\n",
       "1351   Robert  M  91640  1947\n",
       "...       ... ..    ...   ...\n",
       "27      Annie  F   1326  1881\n",
       "28     Bertha  F   1324  1881\n",
       "8      Bertha  F   1320  1880\n",
       "29      Alice  F   1308  1881\n",
       "9       Sarah  F   1288  1880\n",
       "\n",
       "[2780 rows x 4 columns]"
      ]
     },
     "execution_count": 26,
     "metadata": {},
     "output_type": "execute_result"
    }
   ],
   "source": [
    "import pandas as pd\n",
    "N = 10\n",
    "\n",
    "data = pd.read_csv('data_section2/popular-names.txt', sep='\\t', header=None)\n",
    "\n",
    "data.sort_values(by=2, ascending=False)"
   ]
  },
  {
   "cell_type": "code",
   "execution_count": null,
   "id": "bd6146e0-94dc-430c-a66f-b52fc3afcbbb",
   "metadata": {},
   "outputs": [],
   "source": [
    "!sort -g -r -k 3 data_section2/popular-names.txt"
   ]
  },
  {
   "cell_type": "markdown",
   "id": "0634b43a-780f-4a47-81cd-a206773b11b5",
   "metadata": {},
   "source": [
    "## 19. 各行の1コラム目の文字列の出現頻度を求め，出現頻度の高い順に並べる"
   ]
  },
  {
   "cell_type": "code",
   "execution_count": 32,
   "id": "8c287be5-bc42-4365-85ea-153224f75cfa",
   "metadata": {},
   "outputs": [],
   "source": [
    "import collections\n",
    "\n",
    "col1 = []\n",
    "with open(\"data_section2/col1.txt\", \"r\") as f:\n",
    "    for data in f:\n",
    "        col1.append(data.strip())\n",
    "        \n",
    "collections.Counter(col1).most_common()"
   ]
  },
  {
   "cell_type": "code",
   "execution_count": null,
   "id": "951e5e43-5b13-4233-9c32-057f34af14fb",
   "metadata": {},
   "outputs": [],
   "source": [
    "!cut -f 1 data_section2/popular-names.txt | sort | uniq -c | sort -k 1 -n -r"
   ]
  }
 ],
 "metadata": {
  "kernelspec": {
   "display_name": "Python 3",
   "language": "python",
   "name": "python3"
  },
  "language_info": {
   "codemirror_mode": {
    "name": "ipython",
    "version": 3
   },
   "file_extension": ".py",
   "mimetype": "text/x-python",
   "name": "python",
   "nbconvert_exporter": "python",
   "pygments_lexer": "ipython3",
   "version": "3.6.9"
  }
 },
 "nbformat": 4,
 "nbformat_minor": 5
}
