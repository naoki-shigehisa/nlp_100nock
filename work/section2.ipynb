{
 "cells": [
  {
   "cell_type": "markdown",
   "id": "dfd28283-9b6b-4621-9905-07341b1671f8",
   "metadata": {},
   "source": [
    "## 10. 行数のカウント"
   ]
  },
  {
   "cell_type": "code",
   "execution_count": 1,
   "id": "bec548ee-4780-40d4-a1bf-10c5b4547d04",
   "metadata": {},
   "outputs": [
    {
     "name": "stdout",
     "output_type": "stream",
     "text": [
      "2780\n"
     ]
    }
   ],
   "source": [
    "print(sum([1 for _ in open('data_section2/popular-names.txt')]))"
   ]
  },
  {
   "cell_type": "code",
   "execution_count": 4,
   "id": "3935e962-8982-42ce-bd0b-e3f588415c56",
   "metadata": {},
   "outputs": [
    {
     "name": "stdout",
     "output_type": "stream",
     "text": [
      " 2779 11120 55025 data/popular-names.txt\n"
     ]
    }
   ],
   "source": [
    "!wc data_section2/popular-names.txt"
   ]
  },
  {
   "cell_type": "markdown",
   "id": "4a1f1250-aaaf-412f-8b04-a6724e35d81b",
   "metadata": {},
   "source": [
    "## 11. タブをスペースに置換"
   ]
  },
  {
   "cell_type": "code",
   "execution_count": 15,
   "id": "1b734c0a-488f-4850-91e1-09cd3d39c746",
   "metadata": {},
   "outputs": [],
   "source": [
    "lines = []\n",
    "with open(\"data_section2/popular-names.txt\", \"r\") as f:\n",
    "    for data in f:\n",
    "        lines.append(data.strip().replace(\"\\t\",\" \")+\"\\n\")\n",
    "        \n",
    "with open(\"data_section2/popular-names-space.txt\", \"w\") as f:\n",
    "    f.writelines(lines)"
   ]
  },
  {
   "cell_type": "code",
   "execution_count": null,
   "id": "47530c90-06cc-4b60-a32a-dcd72e447bf9",
   "metadata": {},
   "outputs": [],
   "source": [
    "!expand -t 1 data_section2/popular-names.txt"
   ]
  },
  {
   "cell_type": "markdown",
   "id": "ceffc42b-dfdc-4d33-b9e1-2395d618750d",
   "metadata": {},
   "source": [
    "## 12. 1列目をcol1.txtに，2列目をcol2.txtに保存"
   ]
  },
  {
   "cell_type": "code",
   "execution_count": 16,
   "id": "e6757c57-2ad4-40e2-82c2-4c2ffccce455",
   "metadata": {},
   "outputs": [],
   "source": [
    "col1 = []\n",
    "col2 = []\n",
    "with open(\"data_section2/popular-names.txt\", \"r\") as f:\n",
    "    for data in f:\n",
    "        line = data.strip().split(\"\\t\")\n",
    "        col1.append(line[0]+\"\\n\")\n",
    "        col2.append(line[1]+\"\\n\")\n",
    "        \n",
    "with open(\"data_section2/col1.txt\", \"w\") as f:\n",
    "    f.writelines(col1)\n",
    "with open(\"data_section2/col2.txt\", \"w\") as f:\n",
    "    f.writelines(col2)"
   ]
  },
  {
   "cell_type": "code",
   "execution_count": null,
   "id": "238fb74f-2ebd-4db5-9df3-8fd12cae2534",
   "metadata": {},
   "outputs": [],
   "source": [
    "!cut -f 1 data_section2/popular-names.txt"
   ]
  },
  {
   "cell_type": "code",
   "execution_count": null,
   "id": "041b8a2f-a7a1-40de-97cb-0406eff4f46c",
   "metadata": {},
   "outputs": [],
   "source": [
    "!cut -f 2 data_section2/popular-names.txt"
   ]
  },
  {
   "cell_type": "markdown",
   "id": "fa1b8cf5-7763-4290-bd6b-57a7f1fb0850",
   "metadata": {},
   "source": [
    "## 13. col1.txtとcol2.txtをマージ"
   ]
  },
  {
   "cell_type": "code",
   "execution_count": 6,
   "id": "33a9d2a5-bf5b-48f5-8e05-17ef0ae88406",
   "metadata": {},
   "outputs": [],
   "source": [
    "import numpy as np\n",
    "import pandas as pd\n",
    "\n",
    "col1 = []\n",
    "with open(\"data_section2/col1.txt\", \"r\") as f:\n",
    "    for data in f:\n",
    "        col1.append(data.strip())\n",
    "col2 = []\n",
    "with open(\"data_section2/col2.txt\", \"r\") as f:\n",
    "    for data in f:\n",
    "        col2.append(data.strip())\n",
    "        \n",
    "data = pd.DataFrame(np.array([col1,col2]).T)\n",
    "data.to_csv('data_section2/col1_col2.txt', sep='\\t', index=False)"
   ]
  },
  {
   "cell_type": "code",
   "execution_count": null,
   "id": "5e275cf8-9b57-4e6c-a1fe-c7d889cdff3f",
   "metadata": {},
   "outputs": [],
   "source": [
    "!paste -d '\\t' data_section2/col1.txt data_section2/col2.txt"
   ]
  },
  {
   "cell_type": "markdown",
   "id": "1f95b02d-c649-46e3-b9e1-e9d121f17256",
   "metadata": {},
   "source": [
    "## 14. 先頭からN行を出力"
   ]
  },
  {
   "cell_type": "code",
   "execution_count": 8,
   "id": "cbe456c1-04ad-4629-b60f-251bbcf49f47",
   "metadata": {},
   "outputs": [
    {
     "name": "stdout",
     "output_type": "stream",
     "text": [
      "Mary\tF\t7065\t1880\n",
      "Anna\tF\t2604\t1880\n",
      "Emma\tF\t2003\t1880\n",
      "Elizabeth\tF\t1939\t1880\n",
      "Minnie\tF\t1746\t1880\n",
      "Margaret\tF\t1578\t1880\n",
      "Ida\tF\t1472\t1880\n",
      "Alice\tF\t1414\t1880\n",
      "Bertha\tF\t1320\t1880\n",
      "Sarah\tF\t1288\t1880\n"
     ]
    }
   ],
   "source": [
    "N = 10\n",
    "with open(\"data_section2/popular-names.txt\", \"r\") as f:\n",
    "    for i, data in enumerate(f):\n",
    "        if i < N:\n",
    "            print(data.strip())\n",
    "        else:\n",
    "            break"
   ]
  },
  {
   "cell_type": "code",
   "execution_count": 9,
   "id": "9521c9b2-1546-4efa-ba81-5d4835ce26f1",
   "metadata": {},
   "outputs": [
    {
     "name": "stdout",
     "output_type": "stream",
     "text": [
      "Mary\tF\t7065\t1880\n",
      "Anna\tF\t2604\t1880\n",
      "Emma\tF\t2003\t1880\n",
      "Elizabeth\tF\t1939\t1880\n",
      "Minnie\tF\t1746\t1880\n",
      "Margaret\tF\t1578\t1880\n",
      "Ida\tF\t1472\t1880\n",
      "Alice\tF\t1414\t1880\n",
      "Bertha\tF\t1320\t1880\n",
      "Sarah\tF\t1288\t1880\n"
     ]
    }
   ],
   "source": [
    "!head -n 10 data_section2/popular-names.txt"
   ]
  },
  {
   "cell_type": "markdown",
   "id": "c2dde88e-327a-46fb-941a-bcde4a9df9a8",
   "metadata": {},
   "source": [
    "## 15. 末尾のN行を出力"
   ]
  },
  {
   "cell_type": "code",
   "execution_count": 14,
   "id": "4ac8d4b8-5ed8-4d8d-8112-28d072f4de32",
   "metadata": {},
   "outputs": [
    {
     "name": "stdout",
     "output_type": "stream",
     "text": [
      "Liam\tM\t19837\t2018\n",
      "Noah\tM\t18267\t2018\n",
      "William\tM\t14516\t2018\n",
      "James\tM\t13525\t2018\n",
      "Oliver\tM\t13389\t2018\n",
      "Benjamin\tM\t13381\t2018\n",
      "Elijah\tM\t12886\t2018\n",
      "Lucas\tM\t12585\t2018\n",
      "Mason\tM\t12435\t2018\n",
      "Logan\tM\t12352\t2018\n"
     ]
    }
   ],
   "source": [
    "N = 10\n",
    "line_count = sum([1 for _ in open('data_section2/popular-names.txt')])\n",
    "with open(\"data_section2/popular-names.txt\", \"r\") as f:\n",
    "    for i, data in enumerate(f):\n",
    "        if line_count - i < N+1:\n",
    "            print(data.strip())"
   ]
  },
  {
   "cell_type": "code",
   "execution_count": 15,
   "id": "0a0c5487-cea9-451b-86a8-1ad710ad51f8",
   "metadata": {},
   "outputs": [
    {
     "name": "stdout",
     "output_type": "stream",
     "text": [
      "Liam\tM\t19837\t2018\n",
      "Noah\tM\t18267\t2018\n",
      "William\tM\t14516\t2018\n",
      "James\tM\t13525\t2018\n",
      "Oliver\tM\t13389\t2018\n",
      "Benjamin\tM\t13381\t2018\n",
      "Elijah\tM\t12886\t2018\n",
      "Lucas\tM\t12585\t2018\n",
      "Mason\tM\t12435\t2018\n",
      "Logan\tM\t12352\t2018"
     ]
    }
   ],
   "source": [
    "!tail -n 10 data_section2/popular-names.txt"
   ]
  },
  {
   "cell_type": "markdown",
   "id": "bf398fe1-8667-426e-8a97-6f70fcba24aa",
   "metadata": {},
   "source": [
    "## 16. ファイルをN分割する"
   ]
  },
  {
   "cell_type": "code",
   "execution_count": 18,
   "id": "12107ef7-0078-4036-b80d-a9a0b2271983",
   "metadata": {},
   "outputs": [
    {
     "data": {
      "text/html": [
       "<div>\n",
       "<style scoped>\n",
       "    .dataframe tbody tr th:only-of-type {\n",
       "        vertical-align: middle;\n",
       "    }\n",
       "\n",
       "    .dataframe tbody tr th {\n",
       "        vertical-align: top;\n",
       "    }\n",
       "\n",
       "    .dataframe thead th {\n",
       "        text-align: right;\n",
       "    }\n",
       "</style>\n",
       "<table border=\"1\" class=\"dataframe\">\n",
       "  <thead>\n",
       "    <tr style=\"text-align: right;\">\n",
       "      <th></th>\n",
       "      <th>0</th>\n",
       "      <th>1</th>\n",
       "      <th>2</th>\n",
       "      <th>3</th>\n",
       "    </tr>\n",
       "  </thead>\n",
       "  <tbody>\n",
       "    <tr>\n",
       "      <th>0</th>\n",
       "      <td>Mary</td>\n",
       "      <td>F</td>\n",
       "      <td>7065</td>\n",
       "      <td>1880</td>\n",
       "    </tr>\n",
       "    <tr>\n",
       "      <th>1</th>\n",
       "      <td>Anna</td>\n",
       "      <td>F</td>\n",
       "      <td>2604</td>\n",
       "      <td>1880</td>\n",
       "    </tr>\n",
       "    <tr>\n",
       "      <th>2</th>\n",
       "      <td>Emma</td>\n",
       "      <td>F</td>\n",
       "      <td>2003</td>\n",
       "      <td>1880</td>\n",
       "    </tr>\n",
       "    <tr>\n",
       "      <th>3</th>\n",
       "      <td>Elizabeth</td>\n",
       "      <td>F</td>\n",
       "      <td>1939</td>\n",
       "      <td>1880</td>\n",
       "    </tr>\n",
       "    <tr>\n",
       "      <th>4</th>\n",
       "      <td>Minnie</td>\n",
       "      <td>F</td>\n",
       "      <td>1746</td>\n",
       "      <td>1880</td>\n",
       "    </tr>\n",
       "    <tr>\n",
       "      <th>...</th>\n",
       "      <td>...</td>\n",
       "      <td>...</td>\n",
       "      <td>...</td>\n",
       "      <td>...</td>\n",
       "    </tr>\n",
       "    <tr>\n",
       "      <th>2775</th>\n",
       "      <td>Benjamin</td>\n",
       "      <td>M</td>\n",
       "      <td>13381</td>\n",
       "      <td>2018</td>\n",
       "    </tr>\n",
       "    <tr>\n",
       "      <th>2776</th>\n",
       "      <td>Elijah</td>\n",
       "      <td>M</td>\n",
       "      <td>12886</td>\n",
       "      <td>2018</td>\n",
       "    </tr>\n",
       "    <tr>\n",
       "      <th>2777</th>\n",
       "      <td>Lucas</td>\n",
       "      <td>M</td>\n",
       "      <td>12585</td>\n",
       "      <td>2018</td>\n",
       "    </tr>\n",
       "    <tr>\n",
       "      <th>2778</th>\n",
       "      <td>Mason</td>\n",
       "      <td>M</td>\n",
       "      <td>12435</td>\n",
       "      <td>2018</td>\n",
       "    </tr>\n",
       "    <tr>\n",
       "      <th>2779</th>\n",
       "      <td>Logan</td>\n",
       "      <td>M</td>\n",
       "      <td>12352</td>\n",
       "      <td>2018</td>\n",
       "    </tr>\n",
       "  </tbody>\n",
       "</table>\n",
       "<p>2780 rows × 4 columns</p>\n",
       "</div>"
      ],
      "text/plain": [
       "              0  1      2     3\n",
       "0          Mary  F   7065  1880\n",
       "1          Anna  F   2604  1880\n",
       "2          Emma  F   2003  1880\n",
       "3     Elizabeth  F   1939  1880\n",
       "4        Minnie  F   1746  1880\n",
       "...         ... ..    ...   ...\n",
       "2775   Benjamin  M  13381  2018\n",
       "2776     Elijah  M  12886  2018\n",
       "2777      Lucas  M  12585  2018\n",
       "2778      Mason  M  12435  2018\n",
       "2779      Logan  M  12352  2018\n",
       "\n",
       "[2780 rows x 4 columns]"
      ]
     },
     "execution_count": 18,
     "metadata": {},
     "output_type": "execute_result"
    }
   ],
   "source": [
    "import pandas as pd\n",
    "N = 10\n",
    "data = pd.read_csv('data_section2/popular-names.txt', sep='\\t', header=None)"
   ]
  }
 ],
 "metadata": {
  "kernelspec": {
   "display_name": "Python 3",
   "language": "python",
   "name": "python3"
  },
  "language_info": {
   "codemirror_mode": {
    "name": "ipython",
    "version": 3
   },
   "file_extension": ".py",
   "mimetype": "text/x-python",
   "name": "python",
   "nbconvert_exporter": "python",
   "pygments_lexer": "ipython3",
   "version": "3.6.9"
  }
 },
 "nbformat": 4,
 "nbformat_minor": 5
}
